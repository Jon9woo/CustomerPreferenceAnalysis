{
 "cells": [
  {
   "cell_type": "markdown",
   "metadata": {},
   "source": [
    "# 고객 취향분석\n",
    "## User Data 분석"
   ]
  },
  {
   "cell_type": "markdown",
   "metadata": {},
   "source": [
    "# 데이터 불러오기"
   ]
  },
  {
   "cell_type": "code",
   "execution_count": 1,
   "metadata": {},
   "outputs": [],
   "source": [
    "import pandas as pd\n",
    "import numpy as np\n",
    "import matplotlib.pyplot as plt\n",
    "import seaborn as sns\n",
    "import datetime as dt\n",
    "from sklearn.cluster import KMeans"
   ]
  },
  {
   "cell_type": "code",
   "execution_count": 2,
   "metadata": {},
   "outputs": [
    {
     "data": {
      "text/html": [
       "<div>\n",
       "<style scoped>\n",
       "    .dataframe tbody tr th:only-of-type {\n",
       "        vertical-align: middle;\n",
       "    }\n",
       "\n",
       "    .dataframe tbody tr th {\n",
       "        vertical-align: top;\n",
       "    }\n",
       "\n",
       "    .dataframe thead th {\n",
       "        text-align: right;\n",
       "    }\n",
       "</style>\n",
       "<table border=\"1\" class=\"dataframe\">\n",
       "  <thead>\n",
       "    <tr style=\"text-align: right;\">\n",
       "      <th></th>\n",
       "      <th>user_id</th>\n",
       "      <th>purchase_count</th>\n",
       "      <th>total_spent</th>\n",
       "      <th>avg_spent</th>\n",
       "      <th>max_spent</th>\n",
       "      <th>min_spent</th>\n",
       "      <th>first_purchase</th>\n",
       "      <th>last_purchase</th>\n",
       "      <th>duration</th>\n",
       "      <th>category_count</th>\n",
       "    </tr>\n",
       "  </thead>\n",
       "  <tbody>\n",
       "    <tr>\n",
       "      <th>0</th>\n",
       "      <td>264649825</td>\n",
       "      <td>2</td>\n",
       "      <td>1240.04</td>\n",
       "      <td>620.02</td>\n",
       "      <td>687.90</td>\n",
       "      <td>552.14</td>\n",
       "      <td>2019-10-06 15:29:00+00:00</td>\n",
       "      <td>2019-10-06 20:36:11+00:00</td>\n",
       "      <td>0 days 05:07:11</td>\n",
       "      <td>0</td>\n",
       "    </tr>\n",
       "    <tr>\n",
       "      <th>1</th>\n",
       "      <td>303160429</td>\n",
       "      <td>1</td>\n",
       "      <td>340.59</td>\n",
       "      <td>340.59</td>\n",
       "      <td>340.59</td>\n",
       "      <td>340.59</td>\n",
       "      <td>2019-10-13 13:25:29+00:00</td>\n",
       "      <td>2019-10-13 13:25:29+00:00</td>\n",
       "      <td>0 days 00:00:00</td>\n",
       "      <td>1</td>\n",
       "    </tr>\n",
       "    <tr>\n",
       "      <th>2</th>\n",
       "      <td>340041246</td>\n",
       "      <td>4</td>\n",
       "      <td>915.52</td>\n",
       "      <td>228.88</td>\n",
       "      <td>339.70</td>\n",
       "      <td>174.78</td>\n",
       "      <td>2019-10-03 11:59:28+00:00</td>\n",
       "      <td>2019-10-14 14:45:39+00:00</td>\n",
       "      <td>11 days 02:46:11</td>\n",
       "      <td>1</td>\n",
       "    </tr>\n",
       "    <tr>\n",
       "      <th>3</th>\n",
       "      <td>371877401</td>\n",
       "      <td>1</td>\n",
       "      <td>29.89</td>\n",
       "      <td>29.89</td>\n",
       "      <td>29.89</td>\n",
       "      <td>29.89</td>\n",
       "      <td>2019-10-09 15:51:08+00:00</td>\n",
       "      <td>2019-10-09 15:51:08+00:00</td>\n",
       "      <td>0 days 00:00:00</td>\n",
       "      <td>0</td>\n",
       "    </tr>\n",
       "    <tr>\n",
       "      <th>4</th>\n",
       "      <td>384989212</td>\n",
       "      <td>1</td>\n",
       "      <td>41.44</td>\n",
       "      <td>41.44</td>\n",
       "      <td>41.44</td>\n",
       "      <td>41.44</td>\n",
       "      <td>2019-10-18 11:19:59+00:00</td>\n",
       "      <td>2019-10-18 11:19:59+00:00</td>\n",
       "      <td>0 days 00:00:00</td>\n",
       "      <td>1</td>\n",
       "    </tr>\n",
       "  </tbody>\n",
       "</table>\n",
       "</div>"
      ],
      "text/plain": [
       "     user_id  purchase_count  total_spent  avg_spent  max_spent  min_spent  \\\n",
       "0  264649825               2      1240.04     620.02     687.90     552.14   \n",
       "1  303160429               1       340.59     340.59     340.59     340.59   \n",
       "2  340041246               4       915.52     228.88     339.70     174.78   \n",
       "3  371877401               1        29.89      29.89      29.89      29.89   \n",
       "4  384989212               1        41.44      41.44      41.44      41.44   \n",
       "\n",
       "              first_purchase              last_purchase          duration  \\\n",
       "0  2019-10-06 15:29:00+00:00  2019-10-06 20:36:11+00:00   0 days 05:07:11   \n",
       "1  2019-10-13 13:25:29+00:00  2019-10-13 13:25:29+00:00   0 days 00:00:00   \n",
       "2  2019-10-03 11:59:28+00:00  2019-10-14 14:45:39+00:00  11 days 02:46:11   \n",
       "3  2019-10-09 15:51:08+00:00  2019-10-09 15:51:08+00:00   0 days 00:00:00   \n",
       "4  2019-10-18 11:19:59+00:00  2019-10-18 11:19:59+00:00   0 days 00:00:00   \n",
       "\n",
       "   category_count  \n",
       "0               0  \n",
       "1               1  \n",
       "2               1  \n",
       "3               0  \n",
       "4               1  "
      ]
     },
     "execution_count": 2,
     "metadata": {},
     "output_type": "execute_result"
    }
   ],
   "source": [
    "data = pd.read_csv('data/2019-Oct_user.csv')\n",
    "data.head()"
   ]
  },
  {
   "cell_type": "code",
   "execution_count": 3,
   "metadata": {},
   "outputs": [
    {
     "data": {
      "text/plain": [
       "array([[-14.66854649,  -0.03848208,   0.27842875],\n",
       "       [-12.58673177,  -0.31326088,  -0.1551733 ],\n",
       "       [-10.59302044,   0.51107553,   0.12198588],\n",
       "       ...,\n",
       "       [  1.63675406,  -0.31326088,   0.65039274],\n",
       "       [  1.63688159,  -0.31326088,  -0.28350158],\n",
       "       [  1.63695175,  -0.31326088,   0.48140628]])"
      ]
     },
     "execution_count": 3,
     "metadata": {},
     "output_type": "execute_result"
    }
   ],
   "source": [
    "# purchase_count와 total_spent만을 활용하여 군집화\n",
    "\n",
    "#\n",
    "# 변수 표준화 \n",
    "from sklearn.preprocessing import StandardScaler\n",
    "\n",
    "df_train_data = data[['user_id','purchase_count','total_spent']]\n",
    "\n",
    "scaler = StandardScaler()\n",
    "\n",
    "scaler.fit(df_train_data)\n",
    "np_train_scaled = scaler.transform(df_train_data)\n",
    "np_train_scaled"
   ]
  },
  {
   "cell_type": "code",
   "execution_count": 4,
   "metadata": {},
   "outputs": [
    {
     "name": "stderr",
     "output_type": "stream",
     "text": [
      "/Users/jongwoom1pro/opt/anaconda3/envs/automl/lib/python3.8/site-packages/sklearn/cluster/_kmeans.py:1412: FutureWarning: The default value of `n_init` will change from 10 to 'auto' in 1.4. Set the value of `n_init` explicitly to suppress the warning\n",
      "  super()._check_params_vs_input(X, default_n_init=10)\n",
      "/Users/jongwoom1pro/opt/anaconda3/envs/automl/lib/python3.8/site-packages/sklearn/cluster/_kmeans.py:1412: FutureWarning: The default value of `n_init` will change from 10 to 'auto' in 1.4. Set the value of `n_init` explicitly to suppress the warning\n",
      "  super()._check_params_vs_input(X, default_n_init=10)\n",
      "/Users/jongwoom1pro/opt/anaconda3/envs/automl/lib/python3.8/site-packages/sklearn/cluster/_kmeans.py:1412: FutureWarning: The default value of `n_init` will change from 10 to 'auto' in 1.4. Set the value of `n_init` explicitly to suppress the warning\n",
      "  super()._check_params_vs_input(X, default_n_init=10)\n",
      "/Users/jongwoom1pro/opt/anaconda3/envs/automl/lib/python3.8/site-packages/sklearn/cluster/_kmeans.py:1412: FutureWarning: The default value of `n_init` will change from 10 to 'auto' in 1.4. Set the value of `n_init` explicitly to suppress the warning\n",
      "  super()._check_params_vs_input(X, default_n_init=10)\n",
      "/Users/jongwoom1pro/opt/anaconda3/envs/automl/lib/python3.8/site-packages/sklearn/cluster/_kmeans.py:1412: FutureWarning: The default value of `n_init` will change from 10 to 'auto' in 1.4. Set the value of `n_init` explicitly to suppress the warning\n",
      "  super()._check_params_vs_input(X, default_n_init=10)\n",
      "/Users/jongwoom1pro/opt/anaconda3/envs/automl/lib/python3.8/site-packages/sklearn/cluster/_kmeans.py:1412: FutureWarning: The default value of `n_init` will change from 10 to 'auto' in 1.4. Set the value of `n_init` explicitly to suppress the warning\n",
      "  super()._check_params_vs_input(X, default_n_init=10)\n",
      "/Users/jongwoom1pro/opt/anaconda3/envs/automl/lib/python3.8/site-packages/sklearn/cluster/_kmeans.py:1412: FutureWarning: The default value of `n_init` will change from 10 to 'auto' in 1.4. Set the value of `n_init` explicitly to suppress the warning\n",
      "  super()._check_params_vs_input(X, default_n_init=10)\n",
      "/Users/jongwoom1pro/opt/anaconda3/envs/automl/lib/python3.8/site-packages/sklearn/cluster/_kmeans.py:1412: FutureWarning: The default value of `n_init` will change from 10 to 'auto' in 1.4. Set the value of `n_init` explicitly to suppress the warning\n",
      "  super()._check_params_vs_input(X, default_n_init=10)\n",
      "/Users/jongwoom1pro/opt/anaconda3/envs/automl/lib/python3.8/site-packages/sklearn/cluster/_kmeans.py:1412: FutureWarning: The default value of `n_init` will change from 10 to 'auto' in 1.4. Set the value of `n_init` explicitly to suppress the warning\n",
      "  super()._check_params_vs_input(X, default_n_init=10)\n",
      "/Users/jongwoom1pro/opt/anaconda3/envs/automl/lib/python3.8/site-packages/sklearn/cluster/_kmeans.py:1412: FutureWarning: The default value of `n_init` will change from 10 to 'auto' in 1.4. Set the value of `n_init` explicitly to suppress the warning\n",
      "  super()._check_params_vs_input(X, default_n_init=10)\n"
     ]
    }
   ],
   "source": [
    "# 최적의 cluster 개수 찾기\n",
    "\n",
    "kmeans_per_k = [KMeans(n_clusters=k).fit(np_train_scaled) for k in range(1, 11)]\n",
    "inertias = [model.inertia_ for model in kmeans_per_k]"
   ]
  },
  {
   "cell_type": "code",
   "execution_count": 14,
   "metadata": {},
   "outputs": [
    {
     "data": {
      "image/png": "[encoded data removed]",
      "text/plain": [
       "<Figure size 800x400 with 1 Axes>"
      ]
     },
     "metadata": {},
     "output_type": "display_data"
    }
   ],
   "source": [
    "# Elbow Method 그래프 그리기 (Elbow Method는 최적의 클러스터 개수를 찾기 위한 방법 중 하나)\n",
    "plt.figure(figsize=(8, 4))\n",
    "plt.plot(range(1,11), inertias, 'bo-')\n",
    "plt.xlabel('Number of clusters (k)')\n",
    "plt.ylabel('Inertia')\n",
    "plt.title('Elbow Method for Optimal k')\n",
    "plt.show()\n"
   ]
  },
  {
   "cell_type": "code",
   "execution_count": 15,
   "metadata": {},
   "outputs": [],
   "source": [
    "# silhouette_score (가능하면 pass, 오래걸림)\n",
    "\n",
    "# from sklearn.metrics import silhouette_score\n",
    "# silhouette_score(np_train_scaled, kmeans.labels_)"
   ]
  },
  {
   "cell_type": "code",
   "execution_count": 16,
   "metadata": {},
   "outputs": [
    {
     "name": "stderr",
     "output_type": "stream",
     "text": [
      "/Users/jongwoom1pro/opt/anaconda3/envs/automl/lib/python3.8/site-packages/sklearn/cluster/_kmeans.py:1412: FutureWarning: The default value of `n_init` will change from 10 to 'auto' in 1.4. Set the value of `n_init` explicitly to suppress the warning\n",
      "  super()._check_params_vs_input(X, default_n_init=10)\n"
     ]
    },
    {
     "data": {
      "text/plain": [
       "array([0, 0, 0, ..., 1, 1, 1], dtype=int32)"
      ]
     },
     "execution_count": 16,
     "metadata": {},
     "output_type": "execute_result"
    }
   ],
   "source": [
    "# 8개 군집\n",
    "kmeans = KMeans(n_clusters=8, random_state = 1111)\n",
    "y_pred = kmeans.fit_predict(np_train_scaled)\n",
    "kmeans.cluster_centers_\n",
    "y_pred"
   ]
  },
  {
   "cell_type": "code",
   "execution_count": 17,
   "metadata": {},
   "outputs": [
    {
     "name": "stderr",
     "output_type": "stream",
     "text": [
      "/var/folders/s3/qf7_0f3s7137frvkybd7gfqh0000gn/T/ipykernel_4420/1990686405.py:3: SettingWithCopyWarning: \n",
      "A value is trying to be set on a copy of a slice from a DataFrame.\n",
      "Try using .loc[row_indexer,col_indexer] = value instead\n",
      "\n",
      "See the caveats in the documentation: https://pandas.pydata.org/pandas-docs/stable/user_guide/indexing.html#returning-a-view-versus-a-copy\n",
      "  df_train_data['clst_k8'] = pd.Series(y_pred)\n"
     ]
    },
    {
     "data": {
      "text/html": [
       "<div>\n",
       "<style scoped>\n",
       "    .dataframe tbody tr th:only-of-type {\n",
       "        vertical-align: middle;\n",
       "    }\n",
       "\n",
       "    .dataframe tbody tr th {\n",
       "        vertical-align: top;\n",
       "    }\n",
       "\n",
       "    .dataframe thead th {\n",
       "        text-align: right;\n",
       "    }\n",
       "</style>\n",
       "<table border=\"1\" class=\"dataframe\">\n",
       "  <thead>\n",
       "    <tr style=\"text-align: right;\">\n",
       "      <th></th>\n",
       "      <th>user_id</th>\n",
       "      <th>purchase_count</th>\n",
       "      <th>total_spent</th>\n",
       "      <th>clst_k8</th>\n",
       "    </tr>\n",
       "  </thead>\n",
       "  <tbody>\n",
       "    <tr>\n",
       "      <th>0</th>\n",
       "      <td>264649825</td>\n",
       "      <td>2</td>\n",
       "      <td>1240.04</td>\n",
       "      <td>0</td>\n",
       "    </tr>\n",
       "    <tr>\n",
       "      <th>1</th>\n",
       "      <td>303160429</td>\n",
       "      <td>1</td>\n",
       "      <td>340.59</td>\n",
       "      <td>0</td>\n",
       "    </tr>\n",
       "    <tr>\n",
       "      <th>2</th>\n",
       "      <td>340041246</td>\n",
       "      <td>4</td>\n",
       "      <td>915.52</td>\n",
       "      <td>0</td>\n",
       "    </tr>\n",
       "    <tr>\n",
       "      <th>3</th>\n",
       "      <td>371877401</td>\n",
       "      <td>1</td>\n",
       "      <td>29.89</td>\n",
       "      <td>0</td>\n",
       "    </tr>\n",
       "    <tr>\n",
       "      <th>4</th>\n",
       "      <td>384989212</td>\n",
       "      <td>1</td>\n",
       "      <td>41.44</td>\n",
       "      <td>0</td>\n",
       "    </tr>\n",
       "  </tbody>\n",
       "</table>\n",
       "</div>"
      ],
      "text/plain": [
       "     user_id  purchase_count  total_spent  clst_k8\n",
       "0  264649825               2      1240.04        0\n",
       "1  303160429               1       340.59        0\n",
       "2  340041246               4       915.52        0\n",
       "3  371877401               1        29.89        0\n",
       "4  384989212               1        41.44        0"
      ]
     },
     "execution_count": 17,
     "metadata": {},
     "output_type": "execute_result"
    }
   ],
   "source": [
    "pd.DataFrame(y_pred)\n",
    "#pd.concat(df_train_data, pd.DataFrame(y_pred))\n",
    "df_train_data['clst_k8'] = pd.Series(y_pred)\n",
    "df_train_data.head()"
   ]
  },
  {
   "cell_type": "code",
   "execution_count": 18,
   "metadata": {},
   "outputs": [
    {
     "data": {
      "text/plain": [
       "clst_k8\n",
       "0    0.412\n",
       "1    0.314\n",
       "2    0.011\n",
       "3    0.049\n",
       "4    0.212\n",
       "5    0.002\n",
       "6    0.000\n",
       "7    0.000\n",
       "Name: user_id, dtype: float64"
      ]
     },
     "execution_count": 18,
     "metadata": {},
     "output_type": "execute_result"
    }
   ],
   "source": [
    "# 각 군집별 비율 확인하기\n",
    "round(df_train_data.groupby('clst_k8').user_id.count()/df_train_data.shape[0],3)"
   ]
  },
  {
   "cell_type": "code",
   "execution_count": null,
   "metadata": {},
   "outputs": [],
   "source": []
  }
 ],
 "metadata": {
  "kernelspec": {
   "display_name": "dan1",
   "language": "python",
   "name": "python3"
  },
  "language_info": {
   "codemirror_mode": {
    "name": "ipython",
    "version": 3
   },
   "file_extension": ".py",
   "mimetype": "text/x-python",
   "name": "python",
   "nbconvert_exporter": "python",
   "pygments_lexer": "ipython3",
   "version": "3.8.19"
  }
 },
 "nbformat": 4,
 "nbformat_minor": 2
}
